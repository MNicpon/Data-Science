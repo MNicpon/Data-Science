{
 "cells": [
  {
   "cell_type": "markdown",
   "id": "64288999-9e17-4360-9253-bee68b11293d",
   "metadata": {},
   "source": [
    "# Data Science Tools and Ecosystem"
   ]
  },
  {
   "cell_type": "markdown",
   "id": "f5d855b8-1cdb-499e-b94d-13e5f88ecac4",
   "metadata": {},
   "source": [
    "In this notebook, Data Science Tools and Ecosystem are summarized."
   ]
  },
  {
   "cell_type": "markdown",
   "id": "05292ea4-3a7d-4b7e-80ff-78428f54b31b",
   "metadata": {},
   "source": [
    "**Obcjectives**\n",
    "- List of popular languages for Data Science\n",
    "- List of popular libraries for Data Science\n",
    "- Tools for Data Science\n",
    "- Examples of arithmetic equations"
   ]
  },
  {
   "cell_type": "markdown",
   "id": "f225f31b-2cb7-4cd7-9a4a-62177955b279",
   "metadata": {},
   "source": [
    "Some of the popular languages that Data Scientists use are:\n",
    "1. Python\n",
    "2. R\n",
    "3. SQL\n",
    "4. Julia\n",
    "5. Scala"
   ]
  },
  {
   "cell_type": "markdown",
   "id": "d822e80d-9a16-47e6-bf5e-2f0a84c2215d",
   "metadata": {},
   "source": [
    "Some of the commonly used libraries used by Data Scientists include:\n",
    "1. Pandas (Python)\n",
    "2. NumPy (Python)\n",
    "3. Matplotlib (Python)\n",
    "4. TensorFlow (Python)\n",
    "5. Scikit (Python)\n",
    "6. ggplot2 (R)"
   ]
  },
  {
   "cell_type": "markdown",
   "id": "d3647501-1911-44eb-8dbe-251cbb771dfd",
   "metadata": {},
   "source": [
    "|Data Science Tools|\n",
    "|---|\n",
    "|JupyterLab|\n",
    "|RStudio|\n",
    "|Anaconda|"
   ]
  },
  {
   "cell_type": "markdown",
   "id": "9b641568-e1c0-4efc-b85e-0368fee70e03",
   "metadata": {},
   "source": [
    "### Below are a few examples of evaluating arithmetic expression in Python"
   ]
  },
  {
   "cell_type": "code",
   "execution_count": 10,
   "id": "1c53799c-2d90-4e9f-8b58-c071a08339aa",
   "metadata": {},
   "outputs": [
    {
     "data": {
      "text/plain": [
       "17"
      ]
     },
     "execution_count": 10,
     "metadata": {},
     "output_type": "execute_result"
    }
   ],
   "source": [
    "# This is a simple arithmetic expression to multiply then add integers\n",
    "(3*4)+5"
   ]
  },
  {
   "cell_type": "code",
   "execution_count": 14,
   "id": "481783d1-3556-4d6b-9726-27375681c17d",
   "metadata": {},
   "outputs": [
    {
     "data": {
      "text/plain": [
       "3.3333333333333335"
      ]
     },
     "execution_count": 14,
     "metadata": {},
     "output_type": "execute_result"
    }
   ],
   "source": [
    "# This will convert 200 minutes to hours by dividing by 60\n",
    "minutes = 200\n",
    "hours = minutes/60\n",
    "hours"
   ]
  },
  {
   "cell_type": "markdown",
   "id": "c69b38f2-f62b-41cd-9c94-84aad6707faf",
   "metadata": {},
   "source": [
    "## Author\n",
    "Miłosz"
   ]
  },
  {
   "cell_type": "code",
   "execution_count": null,
   "id": "8453e5a6-f84b-45f0-9890-763df3aa14f8",
   "metadata": {},
   "outputs": [],
   "source": []
  }
 ],
 "metadata": {
  "kernelspec": {
   "display_name": "Python [conda env:RP_Env]",
   "language": "python",
   "name": "conda-env-RP_Env-py"
  },
  "language_info": {
   "codemirror_mode": {
    "name": "ipython",
    "version": 3
   },
   "file_extension": ".py",
   "mimetype": "text/x-python",
   "name": "python",
   "nbconvert_exporter": "python",
   "pygments_lexer": "ipython3",
   "version": "3.12.8"
  }
 },
 "nbformat": 4,
 "nbformat_minor": 5
}
